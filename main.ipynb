{
 "cells": [
  {
   "cell_type": "markdown",
   "id": "d4ab4218",
   "metadata": {},
   "source": [
    "# Importing Libraries"
   ]
  },
  {
   "cell_type": "code",
   "execution_count": 181,
   "id": "c0e07750",
   "metadata": {},
   "outputs": [],
   "source": [
    "import sys\n",
    "import random\n",
    "import numpy as np\n",
    "import matplotlib.pyplot as plt\n",
    "import cv2\n",
    "from PIL import Image, ImageChops\n",
    "import math\n",
    "import numpy as np\n",
    "from math import sqrt\n",
    "import sys\n",
    "import glob\n",
    "import os\n",
    "from os import listdir\n",
    "import tkinter as tk\n",
    "from tkinter import filedialog\n",
    "from tkinter.filedialog import askopenfile\n",
    "from PIL import Image, ImageTk"
   ]
  },
  {
   "cell_type": "markdown",
   "id": "f69c1f08",
   "metadata": {},
   "source": [
    "# Function to show image"
   ]
  },
  {
   "cell_type": "code",
   "execution_count": 182,
   "id": "2a9054aa",
   "metadata": {},
   "outputs": [],
   "source": [
    "def show_image(image):\n",
    "    plt.imshow(image)\n",
    "    plt.title('Image')\n",
    "    plt.show()"
   ]
  },
  {
   "cell_type": "markdown",
   "id": "ac1b6d19",
   "metadata": {},
   "source": [
    "# Function to remove spaces"
   ]
  },
  {
   "cell_type": "code",
   "execution_count": 183,
   "id": "cf991ad9",
   "metadata": {},
   "outputs": [],
   "source": [
    "def remove(string):\n",
    "    return string.replace(\" \", \"\")"
   ]
  },
  {
   "cell_type": "markdown",
   "id": "c39791e8",
   "metadata": {},
   "source": [
    "# Function to resize "
   ]
  },
  {
   "cell_type": "code",
   "execution_count": 184,
   "id": "5de314e8",
   "metadata": {},
   "outputs": [],
   "source": [
    "def resize(image,dim):\n",
    "    resized = cv2.resize(image, dim, interpolation = cv2.INTER_AREA)\n",
    "    return resized"
   ]
  },
  {
   "cell_type": "markdown",
   "id": "6deee559",
   "metadata": {},
   "source": [
    "# Function for grayscale conversion"
   ]
  },
  {
   "cell_type": "code",
   "execution_count": 185,
   "id": "bbb9a7d1",
   "metadata": {},
   "outputs": [],
   "source": [
    "def convert_to_gray(image):\n",
    "    grayed = cv2.cvtColor(image, cv2.COLOR_BGR2GRAY)\n",
    "    return grayed"
   ]
  },
  {
   "cell_type": "markdown",
   "id": "d61f686d",
   "metadata": {},
   "source": [
    "# Function for threshholding"
   ]
  },
  {
   "cell_type": "code",
   "execution_count": 186,
   "id": "42e1309c",
   "metadata": {},
   "outputs": [],
   "source": [
    "def threshholding(image):\n",
    "    gray_filtered = cv2.inRange(image, 160, 255)\n",
    "    return gray_filtered"
   ]
  },
  {
   "cell_type": "markdown",
   "id": "c41909a0",
   "metadata": {},
   "source": [
    "# Load Dataset"
   ]
  },
  {
   "cell_type": "code",
   "execution_count": 187,
   "id": "2f629d82",
   "metadata": {},
   "outputs": [],
   "source": [
    "def loadDataset(folder_dir):\n",
    "    array=[]\n",
    "    for images in os.listdir(folder_dir):\n",
    "         if (images.endswith(\".jpg\")):\n",
    "            string=r\"C:\\Users\\mtalh\\Downloads\\SLR_images\"\n",
    "            string += \"\\ \"\n",
    "            string += images\n",
    "            array.append(remove(string))\n",
    "    return array"
   ]
  },
  {
   "cell_type": "markdown",
   "id": "7e362fa9",
   "metadata": {},
   "source": [
    "# Calculating Difference"
   ]
  },
  {
   "cell_type": "code",
   "execution_count": 188,
   "id": "3b7b676e",
   "metadata": {},
   "outputs": [],
   "source": [
    "def calc_difference(image1,image2):\n",
    "    res = cv2.absdiff(image1,image2)\n",
    "    res = res.astype(np.uint8)\n",
    "    percentage = (np.count_nonzero(res) * 100)/ res.size\n",
    "    #print(percentage)\n",
    "    return percentage"
   ]
  },
  {
   "cell_type": "code",
   "execution_count": 220,
   "id": "4c6777a6",
   "metadata": {},
   "outputs": [],
   "source": [
    "def classificationvalue(value):\n",
    "    if value==0:\n",
    "        return \"0\"\n",
    "    if value==1:\n",
    "        return \"1\"\n",
    "    if value==2:\n",
    "        return \"2\"\n",
    "    if value==3:\n",
    "        return \"3\"\n",
    "    if value==4:\n",
    "        return \"4\"\n",
    "    if value==5:\n",
    "        return \"5\"\n",
    "    if value==6:\n",
    "        return \"6\"\n",
    "    if value==7:\n",
    "        return \"7\"\n",
    "    if value==8:\n",
    "        return \"8\"\n",
    "    if value==9:\n",
    "        return \"9\"        \n",
    "    if value==10:\n",
    "        return \"a\"\n",
    "    if value==11:\n",
    "        return \"b\"\n",
    "    if value==12:\n",
    "        return \"c\"\n",
    "    if value==13:\n",
    "        return \"d\"\n",
    "    if value==14:\n",
    "        return \"e\"\n",
    "    if value==15:\n",
    "        return \"f\"\n",
    "    if value==16:\n",
    "        return \"g\"\n",
    "    if value==17:\n",
    "        return \"h\"\n",
    "    if value==18:\n",
    "        return \"i\"\n",
    "    if value==19:\n",
    "        return \"j\"\n",
    "    if value==20:\n",
    "        return \"k\"\n",
    "    if value==21:\n",
    "        return \"l\"\n",
    "    if value==22:\n",
    "        return \"m\"\n",
    "    if value==23:\n",
    "        return \"n\"\n",
    "    if value==24:\n",
    "        return \"o\"\n",
    "    if value==25:\n",
    "        return \"p\"\n",
    "    if value==26:\n",
    "        return \"q\"\n",
    "    if value==27:\n",
    "        return \"r\"\n",
    "    if value==28:\n",
    "        return \"s\"\n",
    "    if value==29:\n",
    "        return \"t\"\n",
    "    if value==30:\n",
    "        return \"u\"\n",
    "    if value==31:\n",
    "        return \"v\" \n",
    "    if value==32:\n",
    "        return \"w\"\n",
    "    if value==33:\n",
    "        return \"x\"\n",
    "    if value==34:\n",
    "        return \"y\"\n",
    "    if value==35:\n",
    "        return \"z\""
   ]
  },
  {
   "cell_type": "markdown",
   "id": "f209dd48",
   "metadata": {},
   "source": [
    "# Main"
   ]
  },
  {
   "cell_type": "code",
   "execution_count": 226,
   "id": "8e7db4b1",
   "metadata": {},
   "outputs": [],
   "source": [
    "def main(image_new):\n",
    "    folder_dir = r\"C:\\Users\\mtalh\\Downloads\\SLR_images\"\n",
    "    data_array=loadDataset(folder_dir)\n",
    "    #print(data_array)\n",
    "    #image1 = cv2.imread(r\"C:\\Users\\mtalh\\Downloads\\test1.jpg\")\n",
    "    image1 = cv2.imread(image_new)\n",
    "    #image2 = cv2.imread(data_array[3])\n",
    "    h, w, c = image1.shape\n",
    "    dim = (w, h)\n",
    "    #image2=resize(image2,dim)\n",
    "    image1=convert_to_gray(image1)\n",
    "    #image2=convert_to_gray(image2)\n",
    "    image1=threshholding(image1)\n",
    "    #image2=threshholding(image2)\n",
    "    diff_array=[]\n",
    "    for i in range(len(data_array)):\n",
    "        img=cv2.imread(data_array[i])\n",
    "        img=resize(img,dim)\n",
    "        img=convert_to_gray(img)\n",
    "        img=threshholding(img)\n",
    "        diff_array.append(calc_difference(image1,img))\n",
    "    minpos = diff_array.index(min(diff_array))\n",
    "    #print(minpos)\n",
    "    return(classificationvalue(minpos))"
   ]
  },
  {
   "cell_type": "code",
   "execution_count": 228,
   "id": "14dfacd4",
   "metadata": {},
   "outputs": [
    {
     "name": "stdout",
     "output_type": "stream",
     "text": [
      "C:/Users/mtalh/Downloads/testv.jpg\n",
      "v\n"
     ]
    }
   ],
   "source": [
    "my_w = tk.Tk()\n",
    "my_w.geometry(\"400x600\")  # Size of the window \n",
    "my_w.title('Sign Language Recognition')\n",
    "my_font1=('times', 18, 'bold')\n",
    "l1 = tk.Label(my_w,text='Upload photo of the Sign',width=30,font=my_font1)  \n",
    "l1.grid(row=1,column=1)\n",
    "b1 = tk.Button(my_w, text='Upload File', width=20,command = lambda:upload_file())\n",
    "b1.grid(row=2,column=1)\n",
    "\n",
    "def upload_file():\n",
    "    global img\n",
    "    f_types = [('Jpg Files', '*.jpg')]\n",
    "    filename = filedialog.askopenfilename(filetypes=f_types)\n",
    "    print(filename)\n",
    "    img=Image.open(filename)\n",
    "    var=main(filename)\n",
    "    print(var)\n",
    "    img = ImageTk.PhotoImage(file=filename)\n",
    "    b2 =tk.Button(my_w,image=img) # using Button \n",
    "    b2.grid(row=3,column=1)\n",
    "    l2 = tk.Label(my_w,text=var,width=30,font=my_font1)  \n",
    "    l2.grid(row=1,column=1)\n",
    "\n",
    "my_w.mainloop()  # Keep the window open"
   ]
  },
  {
   "cell_type": "code",
   "execution_count": null,
   "id": "8f193006",
   "metadata": {},
   "outputs": [],
   "source": []
  }
 ],
 "metadata": {
  "kernelspec": {
   "display_name": "Python 3 (ipykernel)",
   "language": "python",
   "name": "python3"
  },
  "language_info": {
   "codemirror_mode": {
    "name": "ipython",
    "version": 3
   },
   "file_extension": ".py",
   "mimetype": "text/x-python",
   "name": "python",
   "nbconvert_exporter": "python",
   "pygments_lexer": "ipython3",
   "version": "3.9.13"
  }
 },
 "nbformat": 4,
 "nbformat_minor": 5
}
